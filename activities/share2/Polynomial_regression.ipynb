{
 "cells": [
  {
   "cell_type": "markdown",
   "metadata": {},
   "source": [
    "# Lab 3: Polynomial regression\n",
    "\n",
    "This lab is due on Wednesday, February 20.  Please complete this assignment in groups of 2 or 3, and be sure to enter everyone's names in the cell below."
   ]
  },
  {
   "cell_type": "markdown",
   "metadata": {},
   "source": [
    "Group members:  "
   ]
  },
  {
   "cell_type": "markdown",
   "metadata": {},
   "source": [
    "\n",
    "\n",
    "In our last class meeting, we used linear functions to model data and make predictions.  It frequently happens, however, that a linear function is not the best choice for modeling data.  We will now see how the least squares techniques we have developed can be applied more generally.  The cell below provides the function <code>QR(A)</code>, which returns the $QR$ factorization of a matrix $A$. Be sure to evaluate this cell."
   ]
  },
  {
   "cell_type": "code",
   "execution_count": 2,
   "metadata": {},
   "outputs": [],
   "source": [
    "def projection(b, basis):\n",
    "    return sum([b.dot_product(v)/v.dot_product(v)*v for v in basis])\n",
    "\n",
    "def unit(v):\n",
    "    return v/v.norm()\n",
    "\n",
    "def vectors2matrix(vectors):\n",
    "    return matrix(vectors).transpose()\n",
    "\n",
    "def gs(basis):\n",
    "    onbasis = []\n",
    "    for b in basis:\n",
    "        if len(onbasis) == 0: onbasis.append(b)\n",
    "        else: onbasis.append(b-projection(b, onbasis))\n",
    "    return map(unit, onbasis)\n",
    "\n",
    "def QR(A):\n",
    "    Q = vectors2matrix(gs(A.columns()))\n",
    "    return Q, Q.T*A"
   ]
  },
  {
   "cell_type": "markdown",
   "metadata": {},
   "source": [
    "### A first example\n",
    "\n",
    "The cell below introduces a data set with four points and plots them.  Be sure to evaluate this cell."
   ]
  },
  {
   "cell_type": "code",
   "execution_count": 2,
   "metadata": {},
   "outputs": [],
   "source": [
    "data = [[0,2], [1,1], [2,3], [3,3]]\n",
    "\n",
    "list_plot(data, color='blue', size=40)"
   ]
  }
 ],
 "metadata": {
  "kernelspec": {
   "display_name": "SageMath 8.1",
   "language": "",
   "name": "sagemath"
  },
  "language_info": {
   "codemirror_mode": {
    "name": "ipython",
    "version": 2
   },
   "file_extension": ".py",
   "mimetype": "text/x-python",
   "name": "python",
   "nbconvert_exporter": "python",
   "pygments_lexer": "ipython2",
   "version": "2.7.15rc1"
  }
 },
 "nbformat": 4,
 "nbformat_minor": 1
}

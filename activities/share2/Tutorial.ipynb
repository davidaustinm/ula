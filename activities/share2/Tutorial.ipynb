{
 "cells": [
  {
   "cell_type": "markdown",
   "metadata": {},
   "source": [
    "# Tutorial: Sage and Jupyter notebooks\n",
    "\n",
    "When studying linear algebra, it's vitally important that you learn to use a computer to perform important algebraic operations.  The reason linear algebra is an increasingly important mathematical tool is because computers faciliate computations that are not accessible without them.  In particular, typical applications may work with $10,000\\times10,000$ matrices, and there's no way to do that without a computer.\n",
    "\n",
    "In our class, most of the computations will be performed in Sage, which is a software environment that is designed for learning mathematics.  You don't need to know this, but Sage is built in Python so some of our Sage commands will look familiar if you know Python (but it's ok if you don't!).\n",
    "\n",
    "There are several ways to access Sage.  For one, I'll show you how you can do some simple computations within a web page.  You can also create Sage notebooks within cocalc, and you can install Sage for free on your own laptop though you don't certainly need to do that.  However, one way to access Sage is through a Jupyter notebook, like the one you're reading now.  The advantage to this format is that I can share notebooks with you that contain explanatory text (like you're reading) and specialized commands to automate some of what we're learning and that allow you to import data sets to investigate.  In addition, you can save your work and come back to it at a later time.\n",
    "\n",
    "Within a Jupyter notebook, Sage computations are performed in \"cells\" like the one below.  To evaluate this cell, click in it and press Shift-Enter.  The result of evaluating this cell will appear below."
   ]
  },
  {
   "cell_type": "code",
   "execution_count": 1,
   "metadata": {},
   "outputs": [
    {
     "data": {
      "text/plain": [
       "4"
      ]
     },
     "execution_count": 1,
     "metadata": {},
     "output_type": "execute_result"
    }
   ],
   "source": [
    "2+2"
   ]
  },
  {
   "cell_type": "markdown",
   "metadata": {},
   "source": [
    "Now let's review some linear algebra.  You can define the matrix \n",
    "$\n",
    "A = \\left[\\begin{array}{rrr}\n",
    "1 & 2 & 3\\\\\n",
    "-1 & 1 & 0\\\\\n",
    "\\end{array}\n",
    "\\right]\n",
    "$\n",
    "by entering \n",
    "\n",
    "<code> A = matrix(2,3,[1,2,3,-1,1,0]) </code>\n",
    "\n",
    "Notice that the first number in parentheses is the number of rows, followed by the number of columns, followed by a list of the entries.  Go ahead and enter this in the cell below and evaluate the cell by pressing Shift-Enter."
   ]
  },
  {
   "cell_type": "code",
   "execution_count": 3,
   "metadata": {},
   "outputs": [
    {
     "data": {
      "text/plain": [
       "[1 0 1]\n",
       "[0 1 1]"
      ]
     },
     "execution_count": 3,
     "metadata": {},
     "output_type": "execute_result"
    }
   ],
   "source": [
    "A = matrix(2,3,[1,2,3,-1,1,0])\n",
    "A.rref()\n"
   ]
  },
  {
   "cell_type": "markdown",
   "metadata": {},
   "source": [
    "You probably noticed that evaluating this cell did not produce a reply message.  In general, evaluating a cell will only report the result of the last line in the cell.  In this case, there is only one line, but all this does is define a matrix and give it the name <code>A</code>.  You can find the reduced row echelon form of $A$ by evaluating\n",
    "\n",
    "<code>A.rref()</code>"
   ]
  },
  {
   "cell_type": "code",
   "execution_count": 0,
   "metadata": {},
   "outputs": [],
   "source": []
  },
  {
   "cell_type": "markdown",
   "metadata": {},
   "source": [
    "We can enter more than one line in a cell.  In the cell below, define the matrix \n",
    "$B = \n",
    "\\left[\n",
    "\\begin{array}{rr} \n",
    "-2 & 1 \\\\\n",
    "0 & 2 \\\\\n",
    "1 & -1 \\\\\n",
    "\\end{array}\n",
    "\\right]\n",
    "$ on one line and add a second line to evaluate $AB$ using \n",
    "\n",
    "<code>A*B</code>."
   ]
  },
  {
   "cell_type": "code",
   "execution_count": 0,
   "metadata": {},
   "outputs": [],
   "source": []
  },
  {
   "cell_type": "markdown",
   "metadata": {},
   "source": [
    "We can also define vectors, such as ${\\mathbf v} = \\left[\\begin{array}{r} 1 \\\\ -2 \\\\ 3 \\\\ \\end{array}\\right]$ using \n",
    "\n",
    "<code>v = vector([1, -2, 3])</code>\n",
    "\n",
    "In the cell below, define the vector ${\\mathbf v}$ and evaluate $A{\\mathbf v}$ using <code>A*v</code>."
   ]
  },
  {
   "cell_type": "code",
   "execution_count": 0,
   "metadata": {},
   "outputs": [],
   "source": []
  },
  {
   "cell_type": "markdown",
   "metadata": {},
   "source": [
    "If <code>A</code> is a square matrix, we can find its inverse using <code>A.inverse()</code>.  Define the matrix \n",
    "$A=\n",
    "\\left[\n",
    "\\begin{array}{rrr}\n",
    "3 & 0 & -2 \\\\\n",
    "1 & -2 & -1 \\\\\n",
    "2 & 3 & 1 \\\\\n",
    "\\end{array}\n",
    "\\right]\n",
    "$\n",
    "and use its inverse to solve the equation\n",
    "$A{\\mathbf x} = \\left[\\begin{array}{r} -5 \\\\ -8 \\\\ 8 \\\\ \\end{array}\\right]$.\n"
   ]
  },
  {
   "cell_type": "code",
   "execution_count": 0,
   "metadata": {},
   "outputs": [],
   "source": []
  },
  {
   "cell_type": "markdown",
   "metadata": {},
   "source": [
    "Now that we've learned how to performs some basic Sage operations within a Jupyter notebook, let me demonstrate how we can pull a data set into our notebook.  A frequently-studied data set consists of the measurements of 150 irises and can be [found here](https://archive.ics.uci.edu/ml/datasets/iris).  For each of the 150 irises, four measurements are given in centimeters.  The cell below will pull in the data set, create a vector for each of the 150 flowers using two of the measurements, and then plot them.  You do not need to worry about how this code works.  It's enough to know that you feel comfortable executing it."
   ]
  },
  {
   "cell_type": "code",
   "execution_count": 0,
   "metadata": {},
   "outputs": [],
   "source": [
    "import csv\n",
    "irises = csv.reader(open(\"iris.data\"))\n",
    "data = [vector([float(flower[0]), float(flower[1])]) for flower in irises]\n",
    "list_plot(data, size=20, aspect_ratio=1)"
   ]
  },
  {
   "cell_type": "markdown",
   "metadata": {},
   "source": [
    "One Python feature that is nice to know about is lists.  Basically, a list is just what it sounds like, a list of some kind of items.  To create a list, we just put the things we want in the list between square brackets and separated by commas.  For instance,\n",
    "\n",
    "<code>heights = [68.1, 72.2, 63.5, 65.2, 71.4, 66.0]</code>\n",
    "\n",
    "could be a list of the heights, in inches, of six people.  We can find the mean of these heights using\n",
    "\n",
    "<code>mean(heights)</code>.\n",
    "\n",
    "Use the cell below to define these heights and find their mean."
   ]
  },
  {
   "cell_type": "code",
   "execution_count": 0,
   "metadata": {},
   "outputs": [],
   "source": []
  },
  {
   "cell_type": "markdown",
   "metadata": {},
   "source": [
    "We can also create a list of vectors.  Define vectors <code>v1</code>, <code>v2</code>, and <code>v3</code> to be\n",
    "$\\left[\n",
    "\\begin{array}{rr}\n",
    "-1 \\\\ 2 \\\\\n",
    "\\end{array}\n",
    "\\right]\n",
    "$,\n",
    "$\\left[\n",
    "\\begin{array}{rr}\n",
    "0 \\\\ 1\\\\\n",
    "\\end{array}\n",
    "\\right]\n",
    "$, and\n",
    "$\\left[\n",
    "\\begin{array}{rr}\n",
    "3 \\\\ 4 \\\\\n",
    "\\end{array}\n",
    "\\right]\n",
    "$.\n",
    "Put these vectors into a list and then find the average of the vectors using the `mean` command.\n"
   ]
  },
  {
   "cell_type": "code",
   "execution_count": 0,
   "metadata": {},
   "outputs": [],
   "source": []
  }
 ],
 "metadata": {
  "kernelspec": {
   "display_name": "SageMath 8.1",
   "language": "",
   "name": "sagemath"
  },
  "language_info": {
   "codemirror_mode": {
    "name": "ipython",
    "version": 2
   },
   "file_extension": ".py",
   "mimetype": "text/x-python",
   "name": "python",
   "nbconvert_exporter": "python",
   "pygments_lexer": "ipython2",
   "version": "2.7.15rc1"
  }
 },
 "nbformat": 4,
 "nbformat_minor": 1
}
